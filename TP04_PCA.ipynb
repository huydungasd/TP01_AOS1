{
 "cells": [
  {
   "cell_type": "markdown",
   "metadata": {},
   "source": [
    "Warm up exercise !"
   ]
  },
  {
   "cell_type": "markdown",
   "metadata": {},
   "source": [
    "Generate a dataset with the following instruction\n",
    "X = np.random.multivariate_normal([1, 3], [[2, 1], [1, 2]], 100)"
   ]
  },
  {
   "cell_type": "code",
   "execution_count": 1,
   "metadata": {},
   "outputs": [
    {
     "data": {
      "text/plain": [
       "(100, 2)"
      ]
     },
     "execution_count": 1,
     "metadata": {},
     "output_type": "execute_result"
    }
   ],
   "source": [
    "import matplotlib.pyplot as plt\n",
    "import numpy as np\n",
    "import scipy.linalg as linalg\n",
    "X = np.random.multivariate_normal([1, 3], [[2, 1], [1, 2]], 100)\n",
    "X.shape"
   ]
  },
  {
   "cell_type": "markdown",
   "metadata": {},
   "source": [
    "Verify the relation that exists between singular values and eigenvalues using a matrix X.\n",
    "To use the functions provided by the scipy library, use the following command:\n",
    "import scipy.linalg as linalg\n",
    "and look at the functions linalg.eig, linalg.eigh, linalg.eigvals, linalg.eigvalsh,\n",
    "linalg.svd linalg.svdvals"
   ]
  },
  {
   "cell_type": "code",
   "execution_count": 2,
   "metadata": {},
   "outputs": [
    {
     "name": "stdout",
     "output_type": "stream",
     "text": [
      "[1.77055868 8.37317067]\n",
      "[8.37317067 1.77055868]\n"
     ]
    }
   ],
   "source": [
    "X = np.random.normal(size=(6, 2))\n",
    "print(linalg.eigvalsh(X.T @ X))\n",
    "print(linalg.svdvals(X) ** 2)"
   ]
  },
  {
   "cell_type": "markdown",
   "metadata": {},
   "source": [
    "Compute the principal directions and principal components by hand using the unbiased variance–covariance estimator. Verify that they coincide with the ones computed by scikit-learn."
   ]
  },
  {
   "cell_type": "code",
   "execution_count": 3,
   "metadata": {},
   "outputs": [
    {
     "name": "stdout",
     "output_type": "stream",
     "text": [
      "[0.42669293 0.47997791 0.64745846 0.65856333 0.76433331 0.80914162\n",
      " 0.89182568 1.03696147 1.10006467 1.21063604 1.26638273 1.30780218\n",
      " 1.45091456 1.52694372 1.74959022]\n"
     ]
    }
   ],
   "source": [
    "n, p = 100, 15\n",
    "X = np.random.normal(size=(n, p))\n",
    "X0 = X - X.mean(axis=0)\n",
    "V = 1/(n-1) * X0.T @ X0\n",
    "vp, U = linalg.eigh(V)\n",
    "print(vp)"
   ]
  },
  {
   "cell_type": "code",
   "execution_count": 4,
   "metadata": {},
   "outputs": [
    {
     "name": "stdout",
     "output_type": "stream",
     "text": [
      "[1.74959022 1.52694372 1.45091456 1.30780218 1.26638273 1.21063604\n",
      " 1.10006467 1.03696147 0.89182568 0.80914162 0.76433331 0.65856333\n",
      " 0.64745846 0.47997791 0.42669293]\n"
     ]
    }
   ],
   "source": [
    "from sklearn.decomposition import PCA\n",
    "pca = PCA()\n",
    "pca.fit(X)\n",
    "print(pca.explained_variance_)"
   ]
  },
  {
   "cell_type": "markdown",
   "metadata": {},
   "source": [
    "Dimension reduction by hands"
   ]
  },
  {
   "cell_type": "code",
   "execution_count": 5,
   "metadata": {
    "scrolled": true
   },
   "outputs": [
    {
     "name": "stdout",
     "output_type": "stream",
     "text": [
      "[2.72447927 0.9607967 ]\n",
      "[[-0.75659504]\n",
      " [-0.65388374]]\n"
     ]
    },
    {
     "data": {
      "image/png": "[encoded data removed]",
      "text/plain": [
       "<Figure size 432x288 with 1 Axes>"
      ]
     },
     "metadata": {
      "needs_background": "light"
     },
     "output_type": "display_data"
    }
   ],
   "source": [
    "X = np.random.multivariate_normal([1, 3], [[2, 1], [1, 2]], 100)\n",
    "X0 = X - X.mean(axis=0)\n",
    "X_cov = np.cov(X0.T)\n",
    "U, S, V = linalg.svd(X_cov)\n",
    "print(S)\n",
    "mat_reduce = U[:, 0:1]\n",
    "print(mat_reduce)\n",
    "mat_reduce = mat_reduce\n",
    "z = mat_reduce.T @ X0.T\n",
    "Data_new = mat_reduce @ z\n",
    "plt.scatter(X0[:, 0], X0[:, 1])\n",
    "plt.scatter(Data_new.T[:, 0], Data_new.T[:, 1])\n",
    "plt.plot([2*U.T[0,0], 0], [2*U.T[1,0], 0])\n",
    "plt.plot([2*U.T[0,1], 0], [2*U.T[1,1], 0])\n",
    "plt.gca().set_aspect('equal', adjustable='box')"
   ]
  },
  {
   "cell_type": "code",
   "execution_count": 6,
   "metadata": {},
   "outputs": [
    {
     "name": "stdout",
     "output_type": "stream",
     "text": [
      "[2.72447927]\n",
      "[[-0.75659504 -0.65388374]]\n"
     ]
    },
    {
     "data": {
      "image/png": "[encoded data removed]",
      "text/plain": [
       "<Figure size 432x288 with 1 Axes>"
      ]
     },
     "metadata": {
      "needs_background": "light"
     },
     "output_type": "display_data"
    }
   ],
   "source": [
    "pca = PCA(n_components=1)\n",
    "z = pca.fit_transform(X)\n",
    "print(pca.explained_variance_)\n",
    "mat_reduce_pca = pca.components_\n",
    "print(mat_reduce_pca)\n",
    "Data_new_pca = z @ mat_reduce_pca\n",
    "plt.scatter(X0[:, 0], X0[:, 1])\n",
    "plt.scatter(Data_new_pca[:, 0], Data_new_pca[:, 1])\n",
    "plt.plot([2*U.T[0,0], 0], [2*U.T[1,0], 0])\n",
    "plt.plot([2*U.T[0,1], 0], [2*U.T[1,1], 0])\n",
    "plt.gca().set_aspect('equal', adjustable='box')"
   ]
  },
  {
   "cell_type": "code",
   "execution_count": 7,
   "metadata": {},
   "outputs": [
    {
     "name": "stdout",
     "output_type": "stream",
     "text": [
      "[[-1.77635684e-15 -1.44328993e-15]\n",
      " [ 6.66133815e-16  4.44089210e-16]\n",
      " [ 2.22044605e-16  4.44089210e-16]\n",
      " [ 1.66533454e-16  1.38777878e-16]\n",
      " [-8.88178420e-16 -8.88178420e-16]\n",
      " [ 0.00000000e+00  0.00000000e+00]\n",
      " [ 8.32667268e-17  5.55111512e-17]\n",
      " [ 2.22044605e-16  2.22044605e-16]\n",
      " [-2.22044605e-16 -2.22044605e-16]\n",
      " [-2.22044605e-16 -4.44089210e-16]\n",
      " [-5.55111512e-17 -5.55111512e-17]\n",
      " [ 1.38777878e-16  1.11022302e-16]\n",
      " [ 2.22044605e-16  2.22044605e-16]\n",
      " [ 8.88178420e-16  6.66133815e-16]\n",
      " [ 4.44089210e-16  4.44089210e-16]\n",
      " [ 2.22044605e-16  3.33066907e-16]\n",
      " [-2.22044605e-16 -1.66533454e-16]\n",
      " [ 0.00000000e+00  2.22044605e-16]\n",
      " [-2.22044605e-16 -2.22044605e-16]\n",
      " [ 0.00000000e+00  0.00000000e+00]\n",
      " [-5.55111512e-17 -8.32667268e-17]\n",
      " [ 8.88178420e-16  4.44089210e-16]\n",
      " [ 0.00000000e+00  0.00000000e+00]\n",
      " [ 0.00000000e+00  0.00000000e+00]\n",
      " [ 2.22044605e-16  4.44089210e-16]\n",
      " [ 4.44089210e-16  2.22044605e-16]\n",
      " [-5.55111512e-17 -4.85722573e-17]\n",
      " [ 4.44089210e-16  3.88578059e-16]\n",
      " [-2.22044605e-16 -1.94289029e-16]\n",
      " [-6.66133815e-16 -4.44089210e-16]\n",
      " [-5.55111512e-17 -5.55111512e-17]\n",
      " [-6.66133815e-16 -4.44089210e-16]\n",
      " [-6.66133815e-16 -4.44089210e-16]\n",
      " [ 1.11022302e-16  1.11022302e-16]\n",
      " [-5.55111512e-17 -5.55111512e-17]\n",
      " [ 0.00000000e+00  0.00000000e+00]\n",
      " [-8.88178420e-16 -8.88178420e-16]\n",
      " [ 0.00000000e+00  0.00000000e+00]\n",
      " [ 1.11022302e-16  1.11022302e-16]\n",
      " [ 0.00000000e+00  0.00000000e+00]\n",
      " [-2.77555756e-16 -2.22044605e-16]\n",
      " [-2.22044605e-16 -2.22044605e-16]\n",
      " [ 2.22044605e-16  4.44089210e-16]\n",
      " [ 0.00000000e+00  1.11022302e-16]\n",
      " [-2.22044605e-16 -2.22044605e-16]\n",
      " [-3.33066907e-16 -2.22044605e-16]\n",
      " [-5.55111512e-17 -5.55111512e-17]\n",
      " [ 1.66533454e-16  1.38777878e-16]\n",
      " [ 1.94289029e-16  1.66533454e-16]\n",
      " [-8.88178420e-16 -8.88178420e-16]\n",
      " [ 3.33066907e-16  3.33066907e-16]\n",
      " [ 4.44089210e-16  4.44089210e-16]\n",
      " [-6.66133815e-16 -4.44089210e-16]\n",
      " [-2.49800181e-16 -2.08166817e-16]\n",
      " [ 2.22044605e-16  2.22044605e-16]\n",
      " [ 2.22044605e-16  1.66533454e-16]\n",
      " [-2.22044605e-16 -3.33066907e-16]\n",
      " [ 5.55111512e-17  4.16333634e-17]\n",
      " [ 0.00000000e+00  0.00000000e+00]\n",
      " [ 2.22044605e-16  2.22044605e-16]\n",
      " [-5.55111512e-16 -5.55111512e-16]\n",
      " [-4.44089210e-16 -4.44089210e-16]\n",
      " [ 1.11022302e-16  1.11022302e-16]\n",
      " [ 1.11022302e-16  5.55111512e-17]\n",
      " [ 4.44089210e-16  6.66133815e-16]\n",
      " [ 1.11022302e-16  1.11022302e-16]\n",
      " [ 2.22044605e-16  2.22044605e-16]\n",
      " [-1.11022302e-16 -5.55111512e-17]\n",
      " [ 4.44089210e-16  6.66133815e-16]\n",
      " [-1.11022302e-16 -1.11022302e-16]\n",
      " [-5.55111512e-17 -5.55111512e-17]\n",
      " [-2.22044605e-16 -2.22044605e-16]\n",
      " [-4.44089210e-16 -4.44089210e-16]\n",
      " [ 0.00000000e+00  0.00000000e+00]\n",
      " [ 2.77555756e-17  2.77555756e-17]\n",
      " [-2.22044605e-16 -2.22044605e-16]\n",
      " [ 6.66133815e-16  4.44089210e-16]\n",
      " [-4.44089210e-16 -4.44089210e-16]\n",
      " [-4.44089210e-16 -4.44089210e-16]\n",
      " [ 1.11022302e-16  1.11022302e-16]\n",
      " [ 2.22044605e-16  2.22044605e-16]\n",
      " [-2.22044605e-16 -2.22044605e-16]\n",
      " [-6.66133815e-16 -4.44089210e-16]\n",
      " [ 3.33066907e-16  3.33066907e-16]\n",
      " [-1.11022302e-16 -1.11022302e-16]\n",
      " [-1.11022302e-16 -1.66533454e-16]\n",
      " [ 8.88178420e-16  8.88178420e-16]\n",
      " [-2.22044605e-16 -2.22044605e-16]\n",
      " [ 0.00000000e+00  0.00000000e+00]\n",
      " [ 2.77555756e-17  0.00000000e+00]\n",
      " [ 5.55111512e-17  5.55111512e-17]\n",
      " [-2.22044605e-16 -1.11022302e-16]\n",
      " [-2.77555756e-17 -2.77555756e-17]\n",
      " [-2.22044605e-16 -2.22044605e-16]\n",
      " [ 0.00000000e+00  0.00000000e+00]\n",
      " [ 2.22044605e-16  2.22044605e-16]\n",
      " [ 4.44089210e-16  4.44089210e-16]\n",
      " [ 4.44089210e-16  4.44089210e-16]\n",
      " [ 8.32667268e-17  8.32667268e-17]\n",
      " [-6.66133815e-16 -6.66133815e-16]]\n"
     ]
    }
   ],
   "source": [
    "print(Data_new_pca - Data_new.T)"
   ]
  }
 ],
 "metadata": {
  "kernelspec": {
   "display_name": "Python 3",
   "language": "python",
   "name": "python3"
  },
  "language_info": {
   "codemirror_mode": {
    "name": "ipython",
    "version": 3
   },
   "file_extension": ".py",
   "mimetype": "text/x-python",
   "name": "python",
   "nbconvert_exporter": "python",
   "pygments_lexer": "ipython3",
   "version": "3.7.3"
  }
 },
 "nbformat": 4,
 "nbformat_minor": 2
}
